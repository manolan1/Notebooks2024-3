{
 "cells": [
  {
   "cell_type": "markdown",
   "metadata": {
    "colab_type": "text",
    "id": "25S7sKIUxBZs"
   },
   "source": [
    "# Creating Arrays"
   ]
  },
  {
   "cell_type": "markdown",
   "metadata": {
    "colab_type": "text",
    "id": "MXEp38knxBZv"
   },
   "source": [
    "## Using the `array` Function to Create an _ndarray_\n",
    "- Although it is possible to create an _ndarray_ instance using `__new__()`, it is not the recommended approach\n",
    "- The factory methods `array`, `zeros`, `ones`, and `empty` are preferred\n"
   ]
  },
  {
   "cell_type": "code",
   "execution_count": null,
   "metadata": {
    "colab": {},
    "colab_type": "code",
    "id": "3F0Wt8T2xBZx"
   },
   "outputs": [],
   "source": [
    "import numpy as np"
   ]
  },
  {
   "cell_type": "code",
   "execution_count": null,
   "metadata": {
    "colab": {},
    "colab_type": "code",
    "id": "KVMSnFHAxBZ2"
   },
   "outputs": [],
   "source": [
    "help(np.array)"
   ]
  },
  {
   "cell_type": "markdown",
   "metadata": {
    "colab_type": "text",
    "id": "9cT9JCGoxBZ9"
   },
   "source": [
    "- The _array_ function signature is:\n",
    "```\n",
    "       array(object, dtype=None, copy=True, order=None, subok=False, ndmin=0)\n",
    "```       \n",
    "- `object` is _array_like_\n",
    "- If `dtype` is not given, how is the type determined?\n",
    "- Can the `dtype` be used to downcast the data stored in `object`?\n",
    "- Which numpy method should be used for downcasting data being put into an _ndarray_?\n",
    "- Is the original object copied by default?\n",
    "- What is the default order of the new _ndarray_? \n",
    "\n",
    "### Do Now!\n",
    "* Create a 5 element list of large integers (`l1`)\n",
    "* Print the list\n",
    "* Create a one-dimensional array from the list (`a1`)\n",
    "* Print the array"
   ]
  },
  {
   "cell_type": "code",
   "execution_count": null,
   "metadata": {
    "colab": {},
    "colab_type": "code",
    "id": "ufm3mD-lxBZ_"
   },
   "outputs": [],
   "source": [
    "l1 = [2**10 for x in range(5)]\n",
    "print('l1 =', l1)"
   ]
  },
  {
   "cell_type": "code",
   "execution_count": null,
   "metadata": {
    "colab": {},
    "colab_type": "code",
    "id": "L51J-1rHxBaK"
   },
   "outputs": [],
   "source": [
    "a1 = np.array(l1)\n",
    "print('a1 =', a1)\n",
    "a1"
   ]
  },
  {
   "cell_type": "markdown",
   "metadata": {
    "colab_type": "text",
    "id": "oHSO2uYkxBaW"
   },
   "source": [
    "- View the doc string of the NumPy asarray function"
   ]
  },
  {
   "cell_type": "code",
   "execution_count": null,
   "metadata": {
    "colab": {},
    "colab_type": "code",
    "id": "ILgdrVjPxBad"
   },
   "outputs": [],
   "source": [
    "help(np.asarray)"
   ]
  },
  {
   "cell_type": "markdown",
   "metadata": {
    "colab_type": "text",
    "id": "T71lF2hBxBah"
   },
   "source": [
    "- Use the asarray function to create a new array (`a1x`) from `a1`\n",
    "- Print the new array\n",
    "- Modify an element of `a1`\n",
    "- print both arrays and the list `l1`\n",
    "- Is the result what you expected? "
   ]
  },
  {
   "cell_type": "code",
   "execution_count": null,
   "metadata": {
    "colab": {},
    "colab_type": "code",
    "id": "0zBWaZEUxBa3"
   },
   "outputs": [],
   "source": [
    "a1x = np.asarray(a1)\n",
    "print('a1x =', a1x)\n",
    "a1x"
   ]
  },
  {
   "cell_type": "code",
   "execution_count": null,
   "metadata": {},
   "outputs": [],
   "source": [
    "a1[1] = 100\n",
    "print(l1)\n",
    "print(a1)\n",
    "print(a1x)"
   ]
  },
  {
   "cell_type": "markdown",
   "metadata": {},
   "source": [
    "- View the datatype of `a1`\n",
    "- Create a list of floating point numbers\n",
    "- Create an array from the list\n",
    "- View the datatype"
   ]
  },
  {
   "cell_type": "code",
   "execution_count": null,
   "metadata": {
    "colab": {},
    "colab_type": "code",
    "id": "NUe2J_wSxBai"
   },
   "outputs": [],
   "source": [
    "print('a1.dtype =', a1.dtype)"
   ]
  },
  {
   "cell_type": "code",
   "execution_count": null,
   "metadata": {
    "colab": {},
    "colab_type": "code",
    "id": "J8WNeXkNxBal"
   },
   "outputs": [],
   "source": [
    "m1 = [ 1.0, 2.0, 3.0]\n",
    "m1"
   ]
  },
  {
   "cell_type": "code",
   "execution_count": null,
   "metadata": {
    "colab": {},
    "colab_type": "code",
    "id": "knI3KIY0xBas"
   },
   "outputs": [],
   "source": [
    "am1 = np.asarray(m1)\n",
    "am1.dtype"
   ]
  },
  {
   "cell_type": "markdown",
   "metadata": {
    "colab_type": "text",
    "id": "tZOHbBRqxBbA"
   },
   "source": [
    "- Create a new list of 5 tuples with each tuple containing an integer and float\n",
    "- Print the list\n",
    "- Is the list a nested sequence?"
   ]
  },
  {
   "cell_type": "code",
   "execution_count": null,
   "metadata": {
    "colab": {},
    "colab_type": "code",
    "id": "3v6auOLDxBbD"
   },
   "outputs": [],
   "source": [
    "l2 = [(2 ** 54, 3.578 **10) for i in range(5)]\n",
    "print('l2 =', l2)"
   ]
  },
  {
   "cell_type": "markdown",
   "metadata": {
    "colab_type": "text",
    "id": "tZOHbBRqxBbA"
   },
   "source": [
    "- Create a new _ndarray_ from the list\n",
    "- Print the array"
   ]
  },
  {
   "cell_type": "code",
   "execution_count": null,
   "metadata": {
    "colab": {},
    "colab_type": "code",
    "id": "3v6auOLDxBbD"
   },
   "outputs": [],
   "source": [
    "a2 = np.array(l2)\n",
    "print('a2 =', a2)"
   ]
  },
  {
   "cell_type": "markdown",
   "metadata": {
    "colab_type": "text",
    "id": "tZOHbBRqxBbA"
   },
   "source": [
    "- Print the number of elements in the array\n",
    "- Print the data type of the elements\n",
    "  - Note that the integers in the original list have been up-casted to float\n",
    "- Print the size of the array elements\n",
    "- Print the number of bytes used to store the array data\n",
    "- Print the number of dimensions of the array\n",
    "- Print the shape of the array\n",
    "- Print the strides of the array (strides are the number of bytes traversed in order to move from element to element in one dimension or across dimensions)\n",
    "- Print memory use information"
   ]
  },
  {
   "cell_type": "code",
   "execution_count": null,
   "metadata": {
    "colab": {},
    "colab_type": "code",
    "id": "3v6auOLDxBbD"
   },
   "outputs": [],
   "source": [
    "print('Number of elements, a2.size =', a2.size)\n",
    "print('Data type of elements, a2.dtype =', a2.dtype)\n",
    "print('Size of the array elements, a2.itemsize =', a2.itemsize)\n",
    "print('Total number of bytes used to store array data, a2.nbytes =', a2.nbytes)\n",
    "print('Number of dimensions, a2.ndim =', a2.ndim)\n",
    "print('Shape of the array, a2.shape =', a2.shape, '==> a', a2.shape[0], 'x', a2.shape[1])\n",
    "print('Strides of the array =', a2.strides)\n",
    "print('Memory use information =', a2.flags)"
   ]
  },
  {
   "cell_type": "markdown",
   "metadata": {
    "colab_type": "text",
    "id": "UfZFSY6_xBbL"
   },
   "source": [
    "## Using the `zeros` Function to Create an _ndarray_\n",
    "- The `zeros` function, as its name suggest, creates an _ndarray_ containing all zeros\n",
    "- Unlike the `array` function, `zeros` doesn't take source data\n",
    "- `zeros` includes a `shape` parameter for specifying the dimensions of the created _ndarray_\n",
    "\n",
    "### Do Now!\n",
    "- View the doc string of the numpy *zeros* function"
   ]
  },
  {
   "cell_type": "code",
   "execution_count": null,
   "metadata": {
    "colab": {},
    "colab_type": "code",
    "id": "u0D6qN0qxBbN"
   },
   "outputs": [],
   "source": [
    "help(np.zeros)"
   ]
  },
  {
   "cell_type": "markdown",
   "metadata": {
    "colab_type": "text",
    "id": "6kqBToTqxBbQ"
   },
   "source": [
    "### Do Now!\n",
    "- Create a one dimensional, five-element array of zeros of dtype int32 \n",
    "- Print the array"
   ]
  },
  {
   "cell_type": "code",
   "execution_count": null,
   "metadata": {
    "colab": {},
    "colab_type": "code",
    "id": "toJ6OjONxBbR"
   },
   "outputs": [],
   "source": [
    "z1 = np.zeros(5, dtype='int32')\n",
    "print('z1 =', z1)"
   ]
  },
  {
   "cell_type": "markdown",
   "metadata": {
    "colab_type": "text",
    "id": "6kqBToTqxBbQ"
   },
   "source": [
    "- Create a two dimensional, 5x7, array of zeros of the default dtype\n",
    "- Print the array\n",
    "- Print the size and type of the elements\n",
    "- Print the number of elements\n",
    "- Print the total number of bytes required to store the data\n",
    "- Print the number of dimensions"
   ]
  },
  {
   "cell_type": "code",
   "execution_count": null,
   "metadata": {
    "colab": {},
    "colab_type": "code",
    "id": "toJ6OjONxBbR"
   },
   "outputs": [],
   "source": [
    "z2 = np.zeros((5, 7))\n",
    "print('z2 =', z2)\n",
    "\n",
    "print('Size of elements, z2.itemsize =', z2.itemsize)\n",
    "print('Type of elements, z2.dtype =', z2.dtype)\n",
    "print('Number of elements, z2.size =', z2.size)\n",
    "print('Total number of data bytes, z2.nbytes =', z2.nbytes)\n",
    "print('Number of dimensions, z2.ndim =', z2.ndim)"
   ]
  },
  {
   "cell_type": "markdown",
   "metadata": {
    "colab_type": "text",
    "collapsed": true,
    "id": "LOGFGaa9xBbU",
    "jupyter": {
     "outputs_hidden": true
    }
   },
   "source": [
    "## Using the `ones` Function to Create an `ndarray`\n",
    "- The `ones` function works just like the `zeros` function except that it creates an _ndarray_ containing all ones\n",
    "\n",
    "### Do Now!\n",
    "- View the doc string of the numpy `ones` function"
   ]
  },
  {
   "cell_type": "code",
   "execution_count": null,
   "metadata": {
    "colab": {},
    "colab_type": "code",
    "id": "GOq6iar5xBbV"
   },
   "outputs": [],
   "source": [
    "help(np.ones)"
   ]
  },
  {
   "cell_type": "markdown",
   "metadata": {
    "colab_type": "text",
    "id": "5QqA625wxBbY"
   },
   "source": [
    "- Create a four dimensional, 2x3x4x5, array of ones of type `complex64`\n",
    "- Print the array"
   ]
  },
  {
   "cell_type": "code",
   "execution_count": null,
   "metadata": {
    "colab": {},
    "colab_type": "code",
    "id": "18XWM843xBba"
   },
   "outputs": [],
   "source": [
    "o1 = np.ones((2, 3, 4, 5), dtype=np.complex64)\n",
    "print('o1 =', o1, '\\n')"
   ]
  },
  {
   "cell_type": "markdown",
   "metadata": {
    "colab_type": "text",
    "id": "5QqA625wxBbY"
   },
   "source": [
    "- Print the size and type of the elements\n",
    "- Print the number of elements\n",
    "- Print the total number of bytes required to store the data\n",
    "- Print the number of dimensions\n",
    "- Print the shape of the array"
   ]
  },
  {
   "cell_type": "code",
   "execution_count": null,
   "metadata": {
    "colab": {},
    "colab_type": "code",
    "id": "18XWM843xBba"
   },
   "outputs": [],
   "source": [
    "print('Size of elements, o1.itemsize =', o1.itemsize)\n",
    "print('Type of elements, o1.dtype =', o1.dtype)\n",
    "print('Number of elements, o1.size =', o1.size)\n",
    "print('Total number of data bytes, o1.nbytes =', o1.nbytes)\n",
    "print('Number of dimensions, o1.ndim =', o1.ndim)\n",
    "print('The shape of the array, o1.shape =', o1.shape)"
   ]
  },
  {
   "cell_type": "markdown",
   "metadata": {
    "colab_type": "text",
    "id": "msvKwUKBxBbf"
   },
   "source": [
    "## Other Functions for Creating *ndarray*s"
   ]
  },
  {
   "cell_type": "markdown",
   "metadata": {
    "colab_type": "text",
    "id": "1n2cnw-exBbg"
   },
   "source": [
    "### `np.arange`\n",
    "- View the doc string for `np.arange`\n",
    "- Print out an _ndarray_ with elements ranging from 5 to 25 with a step of 4"
   ]
  },
  {
   "cell_type": "code",
   "execution_count": null,
   "metadata": {
    "colab": {},
    "colab_type": "code",
    "id": "zPBXte8zxBbh"
   },
   "outputs": [],
   "source": [
    "help(np.arange)"
   ]
  },
  {
   "cell_type": "code",
   "execution_count": null,
   "metadata": {
    "colab": {},
    "colab_type": "code",
    "id": "VXgJu2laxBbm"
   },
   "outputs": [],
   "source": [
    "print('arange array =', np.arange(5, 25, 4))"
   ]
  },
  {
   "cell_type": "markdown",
   "metadata": {
    "colab_type": "text",
    "id": "23oMPBkdxBbw"
   },
   "source": [
    "### `np.linspace`\n",
    "- View the doc string for `np.linspace`\n",
    "- Print an array of 50 numbers spaced over the interval 1 to 25"
   ]
  },
  {
   "cell_type": "code",
   "execution_count": null,
   "metadata": {
    "colab": {},
    "colab_type": "code",
    "id": "fcyxk6S6xBbz"
   },
   "outputs": [],
   "source": [
    "help(np.linspace)"
   ]
  },
  {
   "cell_type": "code",
   "execution_count": null,
   "metadata": {
    "colab": {},
    "colab_type": "code",
    "id": "xN6COUyYxBb2"
   },
   "outputs": [],
   "source": [
    "print('Evenly spaced array =', np.linspace(1, 25))"
   ]
  },
  {
   "cell_type": "markdown",
   "metadata": {
    "colab_type": "text",
    "id": "hWa5m_XfxBb5"
   },
   "source": [
    "# End of Notebook"
   ]
  }
 ],
 "metadata": {
  "anaconda-cloud": {},
  "colab": {
   "include_colab_link": true,
   "name": "02-02-NumPy-Creating_Arrays.ipynb",
   "provenance": []
  },
  "kernelspec": {
   "display_name": "Python 3 (ipykernel)",
   "language": "python",
   "name": "python3"
  },
  "language_info": {
   "codemirror_mode": {
    "name": "ipython",
    "version": 3
   },
   "file_extension": ".py",
   "mimetype": "text/x-python",
   "name": "python",
   "nbconvert_exporter": "python",
   "pygments_lexer": "ipython3",
   "version": "3.8.19"
  }
 },
 "nbformat": 4,
 "nbformat_minor": 4
}
