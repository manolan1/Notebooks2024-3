{
 "cells": [
  {
   "cell_type": "markdown",
   "metadata": {
    "colab_type": "text",
    "id": "ZagbFmr5JDqU"
   },
   "source": [
    "# NumPy Numerical Scalar Types\n",
    "\n",
    "- NumPy supports a large variety of _numerical_ scalar data types\n",
    "- Most NumPy scalar types are either listed in the tuple `np.ScalarType` or are an instance of `np.generic`\n",
    "  - Custom scalar types can be created\n",
    "- The NumPy _numerical_ scalar data types are a subset of NumPy's scalar data types\n",
    "\n",
    "- The function `np.isscalar` can be used to test if an object is a scalar or not\n",
    "- The following functions may be useful for clarifying data value and type hierarchies:\n",
    "  - `isinstance`\n",
    "  - `np.issubclass_`\n",
    "  - `np.issctype`\n",
    "  - `np.issubsctype`\n",
    "  - `np.subdtype`\n",
    "\n",
    "- The term _array scalars_ refers to a scalar with an associated `dtype`"
   ]
  },
  {
   "cell_type": "markdown",
   "metadata": {
    "colab_type": "text",
    "id": "VOc-J2YXJDqX"
   },
   "source": [
    "### Do Now!\n",
    "- Import numpy\n",
    "- Execute `np.ScalarType`\n",
    "  - How many scalar types are listed in `np.ScalarType`? \n",
    "- View the help page for `np.int32`\n",
    "  - What is the method resolution order of `np.int32`? "
   ]
  },
  {
   "cell_type": "code",
   "execution_count": null,
   "metadata": {
    "colab": {},
    "colab_type": "code",
    "id": "0PD4p-ASJDqY"
   },
   "outputs": [],
   "source": [
    "import numpy as np"
   ]
  },
  {
   "cell_type": "code",
   "execution_count": null,
   "metadata": {
    "colab": {},
    "colab_type": "code",
    "id": "8mrt5HjoJDqc"
   },
   "outputs": [],
   "source": [
    "np.ScalarType"
   ]
  },
  {
   "cell_type": "code",
   "execution_count": null,
   "metadata": {
    "colab": {},
    "colab_type": "code",
    "id": "UC6Fd8ESJDqg"
   },
   "outputs": [],
   "source": [
    "help(np.int32)"
   ]
  },
  {
   "cell_type": "markdown",
   "metadata": {
    "colab_type": "text",
    "id": "kQTyPymyJDqj"
   },
   "source": [
    "- View the help page for *np.generic*\n",
    "  - Is `np.generic` the base class of all NumPy scalar types? \n",
    "  - Why does `np.generic` the same AIP as _ndarray_? \n",
    "  - Are most of the `np.generic` methods implemented? \n",
    "\n",
    "- Execute `np.issubclass(np.int32, np.generic)` and print out the results"
   ]
  },
  {
   "cell_type": "code",
   "execution_count": null,
   "metadata": {
    "colab": {},
    "colab_type": "code",
    "id": "izcfSH_DJDql"
   },
   "outputs": [],
   "source": [
    "help(np.generic)"
   ]
  },
  {
   "cell_type": "code",
   "execution_count": null,
   "metadata": {
    "colab": {},
    "colab_type": "code",
    "id": "wVKJIwk2JDqr"
   },
   "outputs": [],
   "source": [
    "print('Is np.int32 a subclass of np.generic? =', np.issubclass_(np.int32, np.generic))"
   ]
  },
  {
   "cell_type": "markdown",
   "metadata": {},
   "source": [
    "- View the help for `np.isscalar`"
   ]
  },
  {
   "cell_type": "code",
   "execution_count": null,
   "metadata": {},
   "outputs": [],
   "source": [
    "help(np.isscalar)"
   ]
  },
  {
   "cell_type": "markdown",
   "metadata": {
    "colab_type": "text",
    "id": "Rt1aejX2JDqv"
   },
   "source": [
    "- Create a NumPy 64 bit integer with the value 100\n",
    "- Print the type of the integer\n",
    "- Print whether the integer is a scalar\n",
    "- Print whether the integer is an instance of an `np.int64`\n",
    "- Print whether the integer is an instance of an `np.generic`\n",
    "- Print whether the integer is an instance of an `np.dtype`"
   ]
  },
  {
   "cell_type": "code",
   "execution_count": null,
   "metadata": {
    "colab": {},
    "colab_type": "code",
    "id": "jog-dbNDJDqw"
   },
   "outputs": [],
   "source": [
    "i1 = np.int64(100)\n",
    "print('The type of i1, type(i1) =', type(i1))\n",
    "print('Is i1 a scalar?', np.isscalar(i1))\n",
    "print('Is i1 an instance of np.int64?', isinstance(i1, np.int64))\n",
    "print('Is i1 an instance of np.generic?', isinstance(i1, np.generic))\n",
    "print('Is i1 an instance of np.dtype?', isinstance(i1, np.dtype))"
   ]
  },
  {
   "cell_type": "markdown",
   "metadata": {
    "colab_type": "text",
    "id": "mRcEpSX9JDq0"
   },
   "source": [
    "- View help for `np.issubdtype`\n",
    "- View help for `np.issubsctype`\n",
    "- View help for `np.issubclass_`\n",
    "- View help for `np.dtype`\n",
    "  - Is `np.dtype` a sub class of np.generic? \n",
    "  - But `np.dtype` is a sub data type of `np.generic`"
   ]
  },
  {
   "cell_type": "code",
   "execution_count": null,
   "metadata": {
    "colab": {},
    "colab_type": "code",
    "id": "rhHbGqjGJDq2"
   },
   "outputs": [],
   "source": [
    "help(np.issubdtype)\n",
    "help(np.issubsctype)\n",
    "help(np.issubclass_)\n",
    "help(np.dtype)"
   ]
  },
  {
   "cell_type": "markdown",
   "metadata": {
    "colab_type": "text",
    "id": "mRcEpSX9JDq0"
   },
   "source": [
    "- Print out whether `np.dtype` is a sub data type of `np.generic`\n",
    "- Print out whether `np.dtype` is a sub scalar type of `np.generic`\n",
    "- Print out whether `np.dtype` is a sub Python class of `np.generic`"
   ]
  },
  {
   "cell_type": "code",
   "execution_count": null,
   "metadata": {
    "colab": {},
    "colab_type": "code",
    "id": "rhHbGqjGJDq2"
   },
   "outputs": [],
   "source": [
    "print('Is np.dtype a sub data type of np.generic?', np.issubdtype(np.dtype, np.generic))\n",
    "print('Is np.dtype a sub scalar type of np.generic?', np.issubsctype(np.dtype, np.generic))\n",
    "print('Is np.dtype a sub Python class of np.generic?', np.issubclass_(np.dtype, np.generic))"
   ]
  },
  {
   "cell_type": "markdown",
   "metadata": {
    "colab_type": "text",
    "id": "q3tKchnaJDq-"
   },
   "source": [
    "# End of Notebook"
   ]
  }
 ],
 "metadata": {
  "anaconda-cloud": {},
  "colab": {
   "include_colab_link": true,
   "name": "02-03-NumPy-Scalar_Data_Types.ipynb",
   "provenance": []
  },
  "kernelspec": {
   "display_name": "Python 3 (ipykernel)",
   "language": "python",
   "name": "python3"
  },
  "language_info": {
   "codemirror_mode": {
    "name": "ipython",
    "version": 3
   },
   "file_extension": ".py",
   "mimetype": "text/x-python",
   "name": "python",
   "nbconvert_exporter": "python",
   "pygments_lexer": "ipython3",
   "version": "3.8.19"
  }
 },
 "nbformat": 4,
 "nbformat_minor": 4
}
