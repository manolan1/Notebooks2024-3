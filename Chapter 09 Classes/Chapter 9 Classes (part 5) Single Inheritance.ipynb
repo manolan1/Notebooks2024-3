{
 "cells": [
  {
   "cell_type": "markdown",
   "metadata": {},
   "source": [
    "# Chapter 9: Classes (part 5)\n",
    "\n",
    "## Single Inheritance"
   ]
  },
  {
   "cell_type": "markdown",
   "metadata": {},
   "source": [
    "What if we wanted to introduce more shapes and have a way to calculate the area for each of them?\n",
    "\n",
    "It would be convenient to have the concept of a Shape and then be able to have specific types of Shape, each with their own characteristics.\n",
    "\n",
    "In Object Oriented Programming, when dealing with classes, we have the concept of inheritance. A superclass provides basic, common functionality and subclasses implement specific functionality.\n",
    "\n",
    "Let us take a look at the last version of Circle and see which features should be implemented by all Shapes."
   ]
  },
  {
   "cell_type": "code",
   "execution_count": null,
   "metadata": {},
   "outputs": [],
   "source": [
    "import math\n",
    "\n",
    "class Circle:\n",
    "    \"\"\"Circle v6 (special methods)\"\"\"\n",
    "    def __init__(self, radius = 0.0):\n",
    "        self.__set_radius(radius)\n",
    "\n",
    "    def calculate_area(self):\n",
    "        return math.pi * (self.__radius ** 2)\n",
    "\n",
    "    def __set_radius(self, radius):\n",
    "        if radius >= 0.0:\n",
    "            self.__radius = radius\n",
    "        else:\n",
    "            print('radius cannot be less than 0.0')\n",
    "            self.__radius = 0.0\n",
    "\n",
    "    def __get_radius(self):\n",
    "        return self.__radius\n",
    "\n",
    "    def __str__(self):\n",
    "        return 'Circle with radius %.2f' % self.__get_radius()\n",
    "\n",
    "    def __gt__(self, other):\n",
    "        return self.radius > other.radius\n",
    "\n",
    "    radius = property(__get_radius, __set_radius)\n",
    "\n",
    "# or\n",
    "# from Circle_6 import Circle"
   ]
  },
  {
   "cell_type": "markdown",
   "metadata": {},
   "source": [
    "- `__init__()` will be different for different shape types because it must set the parameters for each shape (a Circle has a radius, but a rectangle has width and height.\n",
    "- `calculate_area()` this seems like something we can expect of all shapes, but the calculation will be different.\n",
    "- `__set_radius()`, `__get_radius()`, `radius` (the property) are all specific to Circle.\n",
    "- `__str__()` will be implemented differently by each type of Shape.\n",
    "- `__gt__()` we would really like to be able to compare different Shapes. We will do that by re-defining the comparison to be based on area.\n",
    "\n",
    "Based on that analysis, we might create a Shape like this:"
   ]
  },
  {
   "cell_type": "code",
   "execution_count": null,
   "metadata": {},
   "outputs": [],
   "source": [
    "class Shape:\n",
    "    \"\"\"Shape v1 (The superclass)\"\"\"\n",
    "    def calculate_area(self):\n",
    "        return 0\n",
    "\n",
    "    def __str__(self):\n",
    "        return 'We should not get here, this is a Shape with area %.2f' % self.calculate_area()\n",
    "\n",
    "    def __gt__(self, other):\n",
    "        return self.calculate_area() > other.calculate_area()\n",
    "\n",
    "# or\n",
    "# from Shape_1 import Shape"
   ]
  },
  {
   "cell_type": "markdown",
   "metadata": {},
   "source": [
    "In general, we should not create Shape objects directly. There is a way to stop this from happening, but for now we will rely on usage."
   ]
  },
  {
   "cell_type": "code",
   "execution_count": null,
   "metadata": {},
   "outputs": [],
   "source": [
    "s1 = Shape()\n",
    "print(s1)"
   ]
  },
  {
   "cell_type": "markdown",
   "metadata": {},
   "source": [
    "### Subclasses\n",
    "\n",
    "- A subclass shares all the attributes and methods of the superclass, but can choose to override behaviour.\n",
    "  - Subclasses are also known as child classes or subtypes.\n",
    "- In Python, a subclass is defined by putting the superclass name in parentheses:\n",
    "```\n",
    "class Child(Parent):\n",
    "    def ...\n",
    "```\n"
   ]
  },
  {
   "cell_type": "code",
   "execution_count": null,
   "metadata": {},
   "outputs": [],
   "source": [
    "import math\n",
    "\n",
    "class Circle(Shape):\n",
    "    \"\"\"Circle v7 (subclass)\"\"\"\n",
    "    def __init__(self, radius = 0.0):\n",
    "        super().__init__()\n",
    "        self.__set_radius(radius)\n",
    "\n",
    "    def calculate_area(self):\n",
    "        return math.pi * (self.__radius ** 2)\n",
    "\n",
    "    def __set_radius(self, radius):\n",
    "        if radius >= 0.0:\n",
    "            self.__radius = radius\n",
    "        else:\n",
    "            print('radius cannot be less than 0.0')\n",
    "            self.__radius = 0.0\n",
    "\n",
    "    def __get_radius(self):\n",
    "        return self.__radius\n",
    "\n",
    "    def __str__(self):\n",
    "        return 'Circle with radius %.2f' % self.__get_radius()\n",
    "\n",
    "    radius = property(__get_radius, __set_radius)\n",
    "\n",
    "# or\n",
    "# from Circle_7 import Circle"
   ]
  },
  {
   "cell_type": "markdown",
   "metadata": {},
   "source": [
    "- Note line 6, where we allow the superclass initialisation. In this case, there is none, so it will just run the default provided by `object`, but this is good practice."
   ]
  },
  {
   "cell_type": "code",
   "execution_count": null,
   "metadata": {},
   "outputs": [],
   "source": [
    "c7a = Circle(1.0)\n",
    "print(c7a.calculate_area())\n",
    "c7b = Circle(1.5)\n",
    "print(c7b.calculate_area())\n",
    "c7a > c7b"
   ]
  },
  {
   "cell_type": "markdown",
   "metadata": {},
   "source": [
    "  - As a matter of best practice, do not override concrete behaviour of a superclass.\n",
    "  - There should be a strict is-a relationship between subclass and superclass. "
   ]
  },
  {
   "cell_type": "markdown",
   "metadata": {},
   "source": [
    "- What about other Shapes?"
   ]
  },
  {
   "cell_type": "code",
   "execution_count": null,
   "metadata": {},
   "outputs": [],
   "source": [
    "class Square(Shape):\n",
    "    \"\"\"Square v1 (subclass)\"\"\"\n",
    "    def __init__(self, length = 0.0):\n",
    "        super().__init__()\n",
    "        self.__set_length(length)\n",
    "\n",
    "    def calculate_area(self):\n",
    "        return self.__length * self.__length\n",
    "\n",
    "    def __set_length(self, length):\n",
    "        if length >= 0.0:\n",
    "            self.__length = length\n",
    "        else:\n",
    "            print('length cannot be less than 0.0')\n",
    "            self.__length = 0.0\n",
    "\n",
    "    def __get_length(self):\n",
    "        return self.__length\n",
    "\n",
    "    def __str__(self):\n",
    "        return 'Square with side length %.2f' % self.__get_length()\n",
    "\n",
    "    length = property(__get_length, __set_length)\n",
    "\n",
    "# or\n",
    "# from Square_1 import Square"
   ]
  },
  {
   "cell_type": "code",
   "execution_count": null,
   "metadata": {},
   "outputs": [],
   "source": [
    "s1 = Square(1.0)\n",
    "print(s1)"
   ]
  },
  {
   "cell_type": "code",
   "execution_count": null,
   "metadata": {},
   "outputs": [],
   "source": [
    "s2 = Square(2.0)\n",
    "print(s2)"
   ]
  },
  {
   "cell_type": "code",
   "execution_count": null,
   "metadata": {},
   "outputs": [],
   "source": [
    "s1 > s2"
   ]
  },
  {
   "cell_type": "code",
   "execution_count": null,
   "metadata": {},
   "outputs": [],
   "source": [
    "print(s1.calculate_area())\n",
    "print(s2.calculate_area())"
   ]
  },
  {
   "cell_type": "code",
   "execution_count": null,
   "metadata": {},
   "outputs": [],
   "source": [
    "print(c7a.calculate_area())\n",
    "print(c7b.calculate_area())"
   ]
  },
  {
   "cell_type": "code",
   "execution_count": null,
   "metadata": {},
   "outputs": [],
   "source": [
    "print(s1 > c7a)\n",
    "print(s2 > c7a)\n",
    "print(s2 > c7b)"
   ]
  },
  {
   "cell_type": "code",
   "execution_count": null,
   "metadata": {},
   "outputs": [],
   "source": [
    "Square.mro()"
   ]
  },
  {
   "cell_type": "code",
   "execution_count": null,
   "metadata": {},
   "outputs": [],
   "source": [
    "Circle.mro()"
   ]
  },
  {
   "cell_type": "markdown",
   "metadata": {},
   "source": [
    "This shows us that Python will look for methods in the subclasses, then in the superclass and, finally, in `object`"
   ]
  },
  {
   "cell_type": "code",
   "execution_count": null,
   "metadata": {},
   "outputs": [],
   "source": [
    "l1 = [s1, c7a, s2, c7b]\n",
    "l1"
   ]
  },
  {
   "cell_type": "code",
   "execution_count": null,
   "metadata": {},
   "outputs": [],
   "source": [
    "for x in l1:\n",
    "    print('%-30s - area: %.2f' % (x, x.calculate_area()))"
   ]
  },
  {
   "cell_type": "code",
   "execution_count": null,
   "metadata": {},
   "outputs": [],
   "source": [
    "s1.__dict__"
   ]
  },
  {
   "cell_type": "code",
   "execution_count": null,
   "metadata": {},
   "outputs": [],
   "source": [
    "c7a.__dict__"
   ]
  },
  {
   "cell_type": "code",
   "execution_count": null,
   "metadata": {},
   "outputs": [],
   "source": [
    "Shape.__dict__"
   ]
  },
  {
   "cell_type": "markdown",
   "metadata": {},
   "source": [
    "We can see that the subclasses only include class members that are unique to them."
   ]
  },
  {
   "cell_type": "markdown",
   "metadata": {},
   "source": [
    "## Exercise 9.4\n",
    "\n",
    "Now re-open Exercise 9 and complete the section for Exercise 9.4."
   ]
  },
  {
   "cell_type": "markdown",
   "metadata": {},
   "source": [
    "## Type Checking\n",
    "\n",
    "Since Python is very permissive, we often need to check whether an object is suitable for a particular operation. There are a number of ways to do this and which one we choose depends on the situation. In general, we will try to be as permissive as Python and allow our functionality to apply as broadly as possible:\n",
    "- if we just need an object to support a particular attribute or method, we can check for that;\n",
    "- if we need an object to inherit from a particular superclass, we can check for that instead."
   ]
  },
  {
   "cell_type": "code",
   "execution_count": null,
   "metadata": {},
   "outputs": [],
   "source": [
    "o1 = object()\n",
    "sh = Shape()\n",
    "l1.extend((o1, sh))\n",
    "l1"
   ]
  },
  {
   "cell_type": "code",
   "execution_count": null,
   "metadata": {},
   "outputs": [],
   "source": [
    "for x in l1:\n",
    "    print('%-30s - area: %.2f' % (x, x.calculate_area()))"
   ]
  },
  {
   "cell_type": "code",
   "execution_count": null,
   "metadata": {},
   "outputs": [],
   "source": [
    "for x in l1:\n",
    "    print('%-30s - area: %.2f' % (x, x.calculate_area() if hasattr(x, 'calculate_area') else 0.0))"
   ]
  },
  {
   "cell_type": "code",
   "execution_count": null,
   "metadata": {},
   "outputs": [],
   "source": [
    "for x in l1:\n",
    "    if isinstance(x, Shape):\n",
    "        print('%-30s - area: %.2f' % (x, x.calculate_area()))\n",
    "    else:\n",
    "        print('Not a Shape')"
   ]
  },
  {
   "cell_type": "markdown",
   "metadata": {},
   "source": [
    "Handling `Shape` here is not doing any harm, but it is inconvenient. \n",
    "- If it is important that we cannot instantiate `Shape` directly, there are ways to make the object _abstract_, but they are beyond the scope of this course.\n",
    "- If it is important that it is not handled by the loop, we can add an additional test: `if isinstance(x, Shape) and type(x) is not Shape:`. It is a little awkward, but this is not something we need to do very often."
   ]
  },
  {
   "cell_type": "markdown",
   "metadata": {},
   "source": [
    "# End of Notebook"
   ]
  }
 ],
 "metadata": {
  "kernelspec": {
   "display_name": "Python 3 (ipykernel)",
   "language": "python",
   "name": "python3"
  },
  "language_info": {
   "codemirror_mode": {
    "name": "ipython",
    "version": 3
   },
   "file_extension": ".py",
   "mimetype": "text/x-python",
   "name": "python",
   "nbconvert_exporter": "python",
   "pygments_lexer": "ipython3",
   "version": "3.8.19"
  }
 },
 "nbformat": 4,
 "nbformat_minor": 4
}
