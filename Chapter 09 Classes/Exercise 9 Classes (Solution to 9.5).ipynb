{
 "cells": [
  {
   "cell_type": "markdown",
   "metadata": {},
   "source": [
    "# Exercise 9: Classes\n",
    "\n",
    "## Exercise 9.1: Introduction to Classes\n",
    "\n",
    "Create and test a class with the following characteristics:\n",
    "\n",
    "1. Name of class should be `Animal`.\n",
    "2. Each animal should have a name.\n",
    "3. Each animal should make a noise (generic animal sound for now, consider a method where `\"<name> says <sound>\"`."
   ]
  },
  {
   "cell_type": "code",
   "execution_count": null,
   "metadata": {},
   "outputs": [],
   "source": [
    "# Write your code here\n",
    "class Animal:\n",
    "    \"\"\"Represents an animal\"\"\"\n",
    "    def __init__(self, name = None):\n",
    "        self.name = name\n",
    "    def make_noise(self):\n",
    "        print(self.name, 'says \"woof!\"')"
   ]
  },
  {
   "cell_type": "code",
   "execution_count": null,
   "metadata": {},
   "outputs": [],
   "source": [
    "# Write some test code here\n",
    "d = Animal('fido')\n",
    "d.make_noise()"
   ]
  },
  {
   "cell_type": "code",
   "execution_count": null,
   "metadata": {},
   "outputs": [],
   "source": [
    "c = Animal('tom')\n",
    "c.make_noise()"
   ]
  },
  {
   "cell_type": "markdown",
   "metadata": {},
   "source": [
    "## Exercise 9.2: Methods and Properties\n",
    "\n",
    "1. Add a `weight` attribute to your `Animal` class.\n",
    "2. Use properties to make sure the `weight` is greater than `10` and less than `100`.\n",
    "\n",
    "### Optional\n",
    "3. Consider making name a read-only property that is only set in the `__init__`. How would you do that?"
   ]
  },
  {
   "cell_type": "code",
   "execution_count": null,
   "metadata": {},
   "outputs": [],
   "source": [
    "# Write your code here\n",
    "class Animal:\n",
    "    \"\"\"Represents an animal\"\"\"\n",
    "    def __init__(self, name = None, weight = 0):\n",
    "        self.name = name\n",
    "        self.__set_weight(weight)\n",
    "    def make_noise(self):\n",
    "        print(self.name, 'says \"woof!\"')\n",
    "\n",
    "    def __set_weight(self, weight):\n",
    "        if 100 > weight > 10:\n",
    "            self.__weight = weight\n",
    "        else:\n",
    "            raise TypeError('weight must be between 10 and 100')\n",
    "\n",
    "    def __get_weight(self):\n",
    "        return self.__weight\n",
    "\n",
    "    weight = property(__get_weight, __set_weight)\n"
   ]
  },
  {
   "cell_type": "code",
   "execution_count": null,
   "metadata": {},
   "outputs": [],
   "source": [
    "# Write some test code here\n",
    "d = Animal('fido', 99) # modified to match new signature\n",
    "d.make_noise()\n",
    "print(d.weight)"
   ]
  },
  {
   "cell_type": "code",
   "execution_count": null,
   "metadata": {},
   "outputs": [],
   "source": [
    "c = Animal('tom', 11)\n",
    "c.make_noise()\n",
    "print(c.weight)"
   ]
  },
  {
   "cell_type": "markdown",
   "metadata": {},
   "source": [
    "There are two ways to approach the second requirement:\n",
    "1. As here, raise an exception if the value is out of range. The object is not created (as we can see from the count). This is the better solution.\n",
    "2. Set the weight to `11` if `<= 10` and `99` if `>= 100`. This is a simpler option if you are still not comfortable with exceptions."
   ]
  },
  {
   "cell_type": "code",
   "execution_count": null,
   "metadata": {},
   "outputs": [],
   "source": [
    "c.weight = 200"
   ]
  },
  {
   "cell_type": "code",
   "execution_count": null,
   "metadata": {},
   "outputs": [],
   "source": [
    "y = Animal('bambi', 100)"
   ]
  },
  {
   "cell_type": "markdown",
   "metadata": {},
   "source": [
    "### Solution to Optional part 3"
   ]
  },
  {
   "cell_type": "code",
   "execution_count": null,
   "metadata": {},
   "outputs": [],
   "source": [
    "# Write your code here\n",
    "class Animal:\n",
    "    \"\"\"Represents an animal\"\"\"\n",
    "    def __init__(self, name = None, weight = 0):\n",
    "        self.__set_name(name)\n",
    "        self.__set_weight(weight)\n",
    "    def make_noise(self):\n",
    "        print(self.__name, 'says \"woof!\"')\n",
    "\n",
    "    def __set_weight(self, weight):\n",
    "        if 100 > weight > 10:\n",
    "            self.__weight = weight\n",
    "        else:\n",
    "            raise TypeError('weight must be between 10 and 100')\n",
    "\n",
    "    def __get_weight(self):\n",
    "        return self.__weight\n",
    "\n",
    "    weight = property(__get_weight, __set_weight)\n",
    "\n",
    "    def __set_name(self, name):\n",
    "        self.__name = name\n",
    "\n",
    "    def __get_name(self):\n",
    "        return self.__name\n",
    "\n",
    "    name = property(__get_name)\n"
   ]
  },
  {
   "cell_type": "code",
   "execution_count": null,
   "metadata": {},
   "outputs": [],
   "source": [
    "# Some additinal tests\n",
    "d = Animal('fido', 99)\n",
    "d.make_noise()\n",
    "print(d.weight)\n",
    "print(d.name)"
   ]
  },
  {
   "cell_type": "code",
   "execution_count": null,
   "metadata": {},
   "outputs": [],
   "source": [
    "d.name = 'Lassie'"
   ]
  },
  {
   "cell_type": "markdown",
   "metadata": {},
   "source": [
    "## Exercise 9.3: Special Methods\n",
    "\n",
    "1. Add `__gt__` and `__str__` for your `Animal` class.\n",
    "2. Feel free to add others if you like."
   ]
  },
  {
   "cell_type": "code",
   "execution_count": null,
   "metadata": {},
   "outputs": [],
   "source": [
    "# Write your code here\n",
    "class Animal:\n",
    "    \"\"\"Represents an animal\"\"\"\n",
    "    def __init__(self, name = None, weight = 0):\n",
    "        self.__set_name(name)\n",
    "        self.__set_weight(weight)\n",
    "    def make_noise(self):\n",
    "        print(self.__name, 'says \"woof!\"')\n",
    "\n",
    "    def __set_weight(self, weight):\n",
    "        if 100 > weight > 10:\n",
    "            self.__weight = weight\n",
    "        else:\n",
    "            raise TypeError('weight must be between 10 and 100')\n",
    "\n",
    "    def __get_weight(self):\n",
    "        return self.__weight\n",
    "\n",
    "    weight = property(__get_weight, __set_weight)\n",
    "\n",
    "    def __set_name(self, name):\n",
    "        self.__name = name\n",
    "\n",
    "    def __get_name(self):\n",
    "        return self.__name\n",
    "\n",
    "    name = property(__get_name)\n",
    "\n",
    "    def __str__(self):   \n",
    "        return 'Animal with name %s and weight %.2f' % (self.__get_name(), self.__get_weight())\n",
    "\n",
    "    def __gt__(self, other):\n",
    "        return self.weight > other.weight\n"
   ]
  },
  {
   "cell_type": "code",
   "execution_count": null,
   "metadata": {},
   "outputs": [],
   "source": [
    "# Write some test code here\n",
    "d = Animal('fido', 99)\n",
    "d.make_noise()\n",
    "print(d.weight)\n",
    "print(d)"
   ]
  },
  {
   "cell_type": "code",
   "execution_count": null,
   "metadata": {},
   "outputs": [],
   "source": [
    "c = Animal('tom', 11)\n",
    "print(c)\n",
    "c > d"
   ]
  },
  {
   "cell_type": "markdown",
   "metadata": {},
   "source": [
    "## Exercise 9.4: Subclasses\n",
    "\n",
    "1. Create subclasses of `Animal` for 2 specific animal types (e.g. cats and dogs). Each type should make an individual sound"
   ]
  },
  {
   "cell_type": "code",
   "execution_count": null,
   "metadata": {},
   "outputs": [],
   "source": [
    "# Write your code here\n",
    "class Animal:\n",
    "    \"\"\"Represents an animal\"\"\"\n",
    "\n",
    "    def __init__(self, name = None, weight = 0):\n",
    "        self.__set_name(name)\n",
    "        self.__set_weight(weight)\n",
    "    def make_noise(self):\n",
    "        print('Should not get here')\n",
    "\n",
    "    def __set_weight(self, weight):\n",
    "        if 100 > weight > 10:\n",
    "            self.__weight = weight\n",
    "        else:\n",
    "            raise TypeError('weight must be between 10 and 100')\n",
    "\n",
    "    def __get_weight(self):\n",
    "        return self.__weight\n",
    "\n",
    "    weight = property(__get_weight, __set_weight)\n",
    "\n",
    "    def __set_name(self, name):\n",
    "        self.__name = name\n",
    "\n",
    "    def __get_name(self):\n",
    "        return self.__name\n",
    "\n",
    "    name = property(__get_name)\n",
    "\n",
    "    def __str__(self):        \n",
    "        return '%s with name %s and weight %.2f' % (self.__class__.__name__, self.__get_name(), self.__get_weight())\n",
    "\n",
    "    def __gt__(self, other):\n",
    "        return self.weight > other.weight\n",
    "\n",
    "class Cat(Animal):\n",
    "    def __init__(self, name = None, weight = 0):\n",
    "        super().__init__(name, weight)\n",
    "    def make_noise(self):\n",
    "        print(self.name, 'says \"meow!\"')\n",
    "\n",
    "class Dog(Animal):\n",
    "    def __init__(self, name = None, weight = 0):\n",
    "        super().__init__(name, weight)\n",
    "    def make_noise(self):\n",
    "        print(self.name, 'says \"woof!\"')\n"
   ]
  },
  {
   "cell_type": "code",
   "execution_count": null,
   "metadata": {},
   "outputs": [],
   "source": [
    "# Write some test code here\n",
    "d = Dog('fido', 99)\n",
    "d.make_noise()\n",
    "print(d.weight)\n",
    "print(d)"
   ]
  },
  {
   "cell_type": "code",
   "execution_count": null,
   "metadata": {},
   "outputs": [],
   "source": [
    "c = Cat('tom', 11)\n",
    "print(c)\n",
    "c > d"
   ]
  },
  {
   "cell_type": "markdown",
   "metadata": {},
   "source": [
    "## Exercise 9.5: Class methods\n",
    "\n",
    "1. Add code to keep track of how many animals exist."
   ]
  },
  {
   "cell_type": "code",
   "execution_count": null,
   "metadata": {},
   "outputs": [],
   "source": [
    "# Write your code here\n",
    "class Animal:\n",
    "    \"\"\"Represents an animal\"\"\"\n",
    "\n",
    "    __count = 0\n",
    "\n",
    "    def __init__(self, name = None, weight = 0):\n",
    "        self.__set_name(name)\n",
    "        self.__set_weight(weight)\n",
    "        Animal.__count += 1\n",
    "    def __del__(self):\n",
    "        Animal.__count -= 1\n",
    "    \n",
    "    def make_noise(self):\n",
    "        print('Should not get here')\n",
    "\n",
    "    def __set_weight(self, weight):\n",
    "        if 100 > weight > 10:\n",
    "            self.__weight = weight\n",
    "        else:\n",
    "            raise TypeError('weight must be between 10 and 100')\n",
    "\n",
    "    def __get_weight(self):\n",
    "        return self.__weight\n",
    "\n",
    "    weight = property(__get_weight, __set_weight)\n",
    "\n",
    "    def __set_name(self, name):\n",
    "        self.__name = name\n",
    "\n",
    "    def __get_name(self):\n",
    "        return self.__name\n",
    "\n",
    "    name = property(__get_name)\n",
    "\n",
    "    def __str__(self):        \n",
    "        return '%s with name %s and weight %.2f' % (self.__class__.__name__, self.__get_name(), self.__get_weight())\n",
    "\n",
    "    def __gt__(self, other):\n",
    "        return self.weight > other.weight\n",
    "\n",
    "    def __get_count(self):\n",
    "        return Animal.__count\n",
    "\n",
    "    animal_count = property(__get_count)\n",
    "\n",
    "class Cat(Animal):\n",
    "    def __init__(self, name = None, weight = 0):\n",
    "        super().__init__(name, weight)\n",
    "    def make_noise(self):\n",
    "        print(self.name, 'says \"meow!\"')\n",
    "\n",
    "class Dog(Animal):\n",
    "    def __init__(self, name = None, weight = 0):\n",
    "        super().__init__(name, weight)\n",
    "    def make_noise(self):\n",
    "        print(self.name, 'says \"woof!\"')\n"
   ]
  },
  {
   "cell_type": "code",
   "execution_count": null,
   "metadata": {},
   "outputs": [],
   "source": [
    "# Write some test code here\n",
    "d = Dog('fido', 99)\n",
    "d.make_noise()\n",
    "print(d.weight)\n",
    "print(d)\n",
    "print(d.animal_count)"
   ]
  },
  {
   "cell_type": "code",
   "execution_count": null,
   "metadata": {},
   "outputs": [],
   "source": [
    "c = Cat('tom', 11)\n",
    "print(c)\n",
    "print(c > d)\n",
    "print(c.animal_count)"
   ]
  },
  {
   "cell_type": "code",
   "execution_count": null,
   "metadata": {},
   "outputs": [],
   "source": [
    "del c\n",
    "print(d.animal_count)"
   ]
  },
  {
   "cell_type": "markdown",
   "metadata": {},
   "source": [
    "# End of Notebook"
   ]
  }
 ],
 "metadata": {
  "kernelspec": {
   "display_name": "Python 3 (ipykernel)",
   "language": "python",
   "name": "python3"
  },
  "language_info": {
   "codemirror_mode": {
    "name": "ipython",
    "version": 3
   },
   "file_extension": ".py",
   "mimetype": "text/x-python",
   "name": "python",
   "nbconvert_exporter": "python",
   "pygments_lexer": "ipython3",
   "version": "3.8.19"
  }
 },
 "nbformat": 4,
 "nbformat_minor": 4
}
