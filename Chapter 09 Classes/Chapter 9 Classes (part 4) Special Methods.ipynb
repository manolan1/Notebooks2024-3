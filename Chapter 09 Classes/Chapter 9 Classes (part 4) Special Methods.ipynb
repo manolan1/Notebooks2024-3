{
 "cells": [
  {
   "cell_type": "markdown",
   "metadata": {},
   "source": [
    "# Chapter 9: Classes (part 4)\n",
    "\n",
    "## Special Methods"
   ]
  },
  {
   "cell_type": "markdown",
   "metadata": {},
   "source": [
    "What happens when you run str(c5)?\n",
    "\n",
    "Try it now using the last class from part 2:"
   ]
  },
  {
   "cell_type": "code",
   "execution_count": null,
   "metadata": {},
   "outputs": [],
   "source": [
    "import math\n",
    "\n",
    "class Circle:\n",
    "    \"\"\"\n",
    "       Circle v5 (property)\n",
    "    \"\"\"\n",
    "    def __init__(self, radius = 0.0):\n",
    "        self.__set_radius(radius)\n",
    "\n",
    "    def calculate_area(self):\n",
    "        return math.pi * (self.__radius ** 2)\n",
    "\n",
    "    def __set_radius(self, radius):\n",
    "        if radius >= 0.0:\n",
    "            self.__radius = radius\n",
    "        else:\n",
    "            print('radius cannot be less than 0.0')\n",
    "            self.__radius = 0.0\n",
    "\n",
    "    def __get_radius(self):\n",
    "        return self.__radius\n",
    "\n",
    "    radius = property(__get_radius, __set_radius)\n",
    "\n",
    "# or\n",
    "# from Circle_5 import Circle"
   ]
  },
  {
   "cell_type": "code",
   "execution_count": null,
   "metadata": {},
   "outputs": [],
   "source": [
    "c5 = Circle()"
   ]
  },
  {
   "cell_type": "code",
   "execution_count": null,
   "metadata": {},
   "outputs": [],
   "source": [
    "str(c5)"
   ]
  },
  {
   "cell_type": "markdown",
   "metadata": {},
   "source": [
    "- When you write `str(c6)`, what gets executed is `c6.__str__()`\n",
    "  - For example:\n",
    "  ```\n",
    "     def __str__(self):        \n",
    "         return 'Circle with radius %.2f' % self.__get_radius()\n",
    "  ```\n",
    "- When you write `a > b`, what gets executed is: `a.__gt__(self, b)`\n",
    "  - The class implementer decides how to determine `>`\n",
    "  - In our case, it seems obvious that size will be determined by the size of the radius\n",
    "- You can see all the magic commands by typing `dir(<object>)`"
   ]
  },
  {
   "cell_type": "code",
   "execution_count": null,
   "metadata": {},
   "outputs": [],
   "source": [
    "import math\n",
    "\n",
    "class Circle:\n",
    "    \"\"\"\n",
    "       Circle v6 (special methods)\n",
    "    \"\"\"\n",
    "    def __init__(self, radius = 0.0):\n",
    "        self.__set_radius(radius)\n",
    "\n",
    "    def calculate_area(self):\n",
    "        return math.pi * (self.__radius ** 2)\n",
    "\n",
    "    def __set_radius(self, radius):\n",
    "        if radius >= 0.0:\n",
    "            self.__radius = radius\n",
    "        else:\n",
    "            print('radius cannot be less than 0.0')\n",
    "            self.__radius = 0.0\n",
    "\n",
    "    def __get_radius(self):\n",
    "        return self.__radius\n",
    "\n",
    "    def __str__(self):\n",
    "        return 'Circle with radius %.2f' % self.__get_radius()\n",
    "\n",
    "    def __gt__(self, other):\n",
    "        return self.radius > other.radius\n",
    "\n",
    "    radius = property(__get_radius, __set_radius)\n",
    "\n",
    "# or\n",
    "# from Circle_6 import Circle"
   ]
  },
  {
   "cell_type": "code",
   "execution_count": null,
   "metadata": {},
   "outputs": [],
   "source": [
    "c6 = Circle(1.0)\n",
    "str(c6)"
   ]
  },
  {
   "cell_type": "code",
   "execution_count": null,
   "metadata": {},
   "outputs": [],
   "source": [
    "dir(c6)"
   ]
  },
  {
   "cell_type": "markdown",
   "metadata": {},
   "source": [
    "- See how this includes the identifiers we have created (`_Circle__radius`, `radius` etc)\n",
    "  - Python distinguishes between the _property_ `radius` and the private _attribute_ `__radius`, which it qualifies with the namespace (`_Circle`)\n",
    "- It also includes a number of special identifiers that we implemented (`__init__`, `__str__`)\n",
    "- But there are many that we have not (e.g. `__class__`, `__dict__`)\n",
    "  - How can there be special methods that we have not implemented?\n",
    "  - Python provides default implementations of them as we shall see in a moment."
   ]
  },
  {
   "cell_type": "code",
   "execution_count": null,
   "metadata": {},
   "outputs": [],
   "source": [
    "c6.__class__"
   ]
  },
  {
   "cell_type": "code",
   "execution_count": null,
   "metadata": {},
   "outputs": [],
   "source": [
    "type(c6)"
   ]
  },
  {
   "cell_type": "code",
   "execution_count": null,
   "metadata": {},
   "outputs": [],
   "source": [
    "c6.__str__()"
   ]
  },
  {
   "cell_type": "code",
   "execution_count": null,
   "metadata": {},
   "outputs": [],
   "source": [
    "str(c6)"
   ]
  },
  {
   "cell_type": "code",
   "execution_count": null,
   "metadata": {},
   "outputs": [],
   "source": [
    "c6x = Circle(2.0)"
   ]
  },
  {
   "cell_type": "code",
   "execution_count": null,
   "metadata": {},
   "outputs": [],
   "source": [
    "str(c6x)"
   ]
  },
  {
   "cell_type": "code",
   "execution_count": null,
   "metadata": {},
   "outputs": [],
   "source": [
    "c6x > c6"
   ]
  },
  {
   "cell_type": "markdown",
   "metadata": {},
   "source": [
    "## Exercise 9.3\n",
    "\n",
    "Now re-open Exercise 9 and complete the section for Exercise 9.3."
   ]
  },
  {
   "cell_type": "markdown",
   "metadata": {},
   "source": [
    "## Default Implementations"
   ]
  },
  {
   "cell_type": "code",
   "execution_count": null,
   "metadata": {},
   "outputs": [],
   "source": [
    "Circle.mro()"
   ]
  },
  {
   "cell_type": "markdown",
   "metadata": {},
   "source": [
    "- The `mro()` is the _Method Resolution Order_\n",
    "  - It shows where Python looks for method implementations.\n",
    "  - We can see that it looks first in the `Circle` class that we have defined.\n",
    "  - If there is no implementation in `Circle`, it looks in a special, built-in class called `object`."
   ]
  },
  {
   "cell_type": "code",
   "execution_count": null,
   "metadata": {},
   "outputs": [],
   "source": [
    "object.mro()"
   ]
  },
  {
   "cell_type": "code",
   "execution_count": null,
   "metadata": {},
   "outputs": [],
   "source": [
    "dir(object)"
   ]
  },
  {
   "cell_type": "code",
   "execution_count": null,
   "metadata": {},
   "outputs": [],
   "source": [
    "o1 = object()\n",
    "o2 = object()\n",
    "o3 = o1"
   ]
  },
  {
   "cell_type": "code",
   "execution_count": null,
   "metadata": {},
   "outputs": [],
   "source": [
    "print(o1 == o2)\n",
    "print(o1 == o3)"
   ]
  },
  {
   "cell_type": "code",
   "execution_count": null,
   "metadata": {},
   "outputs": [],
   "source": [
    "o1 > o2"
   ]
  },
  {
   "cell_type": "markdown",
   "metadata": {},
   "source": [
    "- The default implementations of `__eq__` and `__ne__` are based on identity.\n",
    "- There is no default implementation of `__gt__`, `__lt__`, `__ge__` and `__le__`"
   ]
  },
  {
   "cell_type": "markdown",
   "metadata": {},
   "source": [
    "# End of Notebook"
   ]
  }
 ],
 "metadata": {
  "kernelspec": {
   "display_name": "Python 3 (ipykernel)",
   "language": "python",
   "name": "python3"
  },
  "language_info": {
   "codemirror_mode": {
    "name": "ipython",
    "version": 3
   },
   "file_extension": ".py",
   "mimetype": "text/x-python",
   "name": "python",
   "nbconvert_exporter": "python",
   "pygments_lexer": "ipython3",
   "version": "3.8.19"
  }
 },
 "nbformat": 4,
 "nbformat_minor": 4
}
