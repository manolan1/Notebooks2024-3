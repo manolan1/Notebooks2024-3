{
 "cells": [
  {
   "cell_type": "markdown",
   "metadata": {},
   "source": [
    "# Chapter 9: Classes (part 2)\n",
    "\n",
    "## Getters and Setters\n",
    "\n",
    "### The Problem\n",
    "\n",
    "So far, we have just saved the attribute of a circle. What happens if we have to do some checking or conversion before saving or retrieving the value of the attribute?"
   ]
  },
  {
   "cell_type": "code",
   "execution_count": null,
   "metadata": {},
   "outputs": [],
   "source": [
    "import math\n",
    "\n",
    "class Circle:\n",
    "    \"\"\"\n",
    "       Circle v4 (getter & setter)\n",
    "    \"\"\"\n",
    "    def __init__(self, radius = 0.0):\n",
    "        self.set_radius(radius)\n",
    "\n",
    "    def calculate_area(self):\n",
    "        return math.pi * (self.__radius ** 2)\n",
    "\n",
    "    def set_radius(self, radius):\n",
    "        if radius >= 0.0:\n",
    "            self.__radius = radius\n",
    "        else:\n",
    "            print('radius cannot be less than 0.0')\n",
    "            self.__radius = 0.0\n",
    "\n",
    "    def get_radius(self):\n",
    "        return self.__radius\n",
    "\n",
    "# or\n",
    "# from Circle_4 import Circle"
   ]
  },
  {
   "cell_type": "markdown",
   "metadata": {},
   "source": [
    "- Line 8\n",
    "  - The attribute is not directly set. `set_radius` is called to store the name in the instance object.\n",
    "  - Note: Do not pass `self` in. This is done by Python as this is a method call.\n",
    "- Lines 11, 15 & 18 \n",
    "  - `__radius` is a private variable. This means it is not accessible except by code in the class."
   ]
  },
  {
   "cell_type": "code",
   "execution_count": null,
   "metadata": {},
   "outputs": [],
   "source": [
    "c4 = Circle(2.0)"
   ]
  },
  {
   "cell_type": "code",
   "execution_count": null,
   "metadata": {},
   "outputs": [],
   "source": [
    "c4.__radius"
   ]
  },
  {
   "cell_type": "markdown",
   "metadata": {},
   "source": [
    "- This raises an error because `__radius` is private"
   ]
  },
  {
   "cell_type": "code",
   "execution_count": null,
   "metadata": {},
   "outputs": [],
   "source": [
    "c4.get_radius()"
   ]
  },
  {
   "cell_type": "code",
   "execution_count": null,
   "metadata": {},
   "outputs": [],
   "source": [
    "c4.calculate_area()"
   ]
  },
  {
   "cell_type": "markdown",
   "metadata": {},
   "source": [
    "- This protects access to the radius and ensures we can perform processing when updating or reading it, but it is not convenient."
   ]
  },
  {
   "cell_type": "markdown",
   "metadata": {},
   "source": [
    "## Properties"
   ]
  },
  {
   "cell_type": "code",
   "execution_count": null,
   "metadata": {},
   "outputs": [],
   "source": [
    "import math\n",
    "\n",
    "class Circle:\n",
    "    \"\"\"\n",
    "       Circle v5 (property)\n",
    "    \"\"\"\n",
    "    def __init__(self, radius = 0.0):\n",
    "        self.__set_radius(radius)\n",
    "\n",
    "    def calculate_area(self):\n",
    "        return math.pi * (self.__radius ** 2)\n",
    "\n",
    "    def __set_radius(self, radius):\n",
    "        if radius >= 0.0:\n",
    "            self.__radius = radius\n",
    "        else:\n",
    "            print('radius cannot be less than 0.0')\n",
    "            self.__radius = 0.0\n",
    "\n",
    "    def __get_radius(self):\n",
    "        return self.__radius\n",
    "\n",
    "    radius = property(__get_radius, __set_radius)\n",
    "\n",
    "# or\n",
    "# from Circle_5 import Circle"
   ]
  },
  {
   "cell_type": "markdown",
   "metadata": {},
   "source": [
    "- Line 23\n",
    "  - This sets `radius` up as a _property_. When `radius` is to be read, Python will use `__get_radius`. When `radius` is to be written, `__set_radius` will be used."
   ]
  },
  {
   "cell_type": "code",
   "execution_count": null,
   "metadata": {},
   "outputs": [],
   "source": [
    "c5 = Circle()"
   ]
  },
  {
   "cell_type": "code",
   "execution_count": null,
   "metadata": {},
   "outputs": [],
   "source": [
    "c5.radius"
   ]
  },
  {
   "cell_type": "code",
   "execution_count": null,
   "metadata": {},
   "outputs": [],
   "source": [
    "c5.radius = 1.0"
   ]
  },
  {
   "cell_type": "code",
   "execution_count": null,
   "metadata": {},
   "outputs": [],
   "source": [
    "c5.__get_radius()"
   ]
  },
  {
   "cell_type": "markdown",
   "metadata": {},
   "source": [
    "- Gives an error because the double underscore makes the method hidden, just as it did with the identifier `__radius`"
   ]
  },
  {
   "cell_type": "code",
   "execution_count": null,
   "metadata": {},
   "outputs": [],
   "source": [
    "c5.radius"
   ]
  },
  {
   "cell_type": "code",
   "execution_count": null,
   "metadata": {},
   "outputs": [],
   "source": [
    "c5.calculate_area()"
   ]
  },
  {
   "cell_type": "markdown",
   "metadata": {},
   "source": [
    "## Exercise 9.2\n",
    "\n",
    "Now open the notebook for Exercise 9 and complete the section for 9.2."
   ]
  },
  {
   "cell_type": "markdown",
   "metadata": {},
   "source": [
    "# End of Notebook"
   ]
  }
 ],
 "metadata": {
  "kernelspec": {
   "display_name": "Python 3 (ipykernel)",
   "language": "python",
   "name": "python3"
  },
  "language_info": {
   "codemirror_mode": {
    "name": "ipython",
    "version": 3
   },
   "file_extension": ".py",
   "mimetype": "text/x-python",
   "name": "python",
   "nbconvert_exporter": "python",
   "pygments_lexer": "ipython3",
   "version": "3.8.19"
  }
 },
 "nbformat": 4,
 "nbformat_minor": 4
}
