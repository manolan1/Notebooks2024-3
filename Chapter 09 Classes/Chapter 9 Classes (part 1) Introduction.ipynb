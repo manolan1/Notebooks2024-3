{
 "cells": [
  {
   "cell_type": "markdown",
   "metadata": {},
   "source": [
    "# Chapter 9: Classes (part 1)\n",
    "\n",
    "This is a basic introduction to creating classes in Python. \n",
    "\n",
    "## What is a Class?\n",
    "\n",
    "A class combines data and functionality to manipulate the data. The idea is to hide implementation details.\n",
    "\n",
    "Consider a class called `Circle`:\n",
    "- contains an attribute (data) called `radius`\n",
    "- implements a method (functionality) called `calculate_area()`\n",
    "\n",
    "We can create different _instances_ of `Circle` with different values for `radius`. We do not need to know how to calculate the area of a circle because that information is hidden in the implementation of the class. In addition, we can change or enhance the implementation by making changes in a single place and not having to change it everywhere.\n",
    "\n",
    "In general, we term the _instances_ of a class _objects_. The idea of objects and object-oriented programming is one of the most important in IT & Computer Science.\n",
    "\n",
    "## Defining a Class"
   ]
  },
  {
   "cell_type": "code",
   "execution_count": null,
   "metadata": {},
   "outputs": [],
   "source": [
    "class Circle:\n",
    "    \"\"\"Circle v1 (does nothing)\"\"\"\n",
    "    pass"
   ]
  },
  {
   "cell_type": "markdown",
   "metadata": {},
   "source": [
    "- Line 1\n",
    "  - Defines the start of a class definition. Indent all that part of the class.\n",
    "  - `Circle` is the name of the class. Typically, class names start with a capital letter and are a noun.\n",
    "- Lines 2 through 4\n",
    "  - This is the docstring documentation for the class. It must be the first non-blank line entry.\n",
    "- Line 5\n",
    "  - `pass` is a keyword meaning nothing additional defined (*no op*)."
   ]
  },
  {
   "cell_type": "code",
   "execution_count": null,
   "metadata": {},
   "outputs": [],
   "source": [
    "type(Circle)"
   ]
  },
  {
   "cell_type": "markdown",
   "metadata": {},
   "source": [
    "- The response `type` shows that a class creates a new data type (as in `int`, `str` or `dict`).\n",
    "- A class also acts as a namespace."
   ]
  },
  {
   "cell_type": "code",
   "execution_count": null,
   "metadata": {},
   "outputs": [],
   "source": [
    "Circle.__dict__"
   ]
  },
  {
   "cell_type": "markdown",
   "metadata": {},
   "source": [
    "- `__module__` is the name of the file the class was defined in.\n",
    "- `__doc__` is the docstring.\n",
    "- `__dict__` is a special attribute of a class which contains all of the identifiers defined in the class namespace.\n",
    "- `__weakref__` is an advanced method of creating a reference to an object (not covered in this class).\n",
    "\n",
    "## Loading a Class from a Module\n",
    "\n",
    "In this course, we are defining the class directly in the notebook. When working with scripts, we are more likely to define classes in separate files, known as modules.\n",
    "\n",
    "The file `Circle_1.py` contains the same class definition as we used above."
   ]
  },
  {
   "cell_type": "code",
   "execution_count": null,
   "metadata": {},
   "outputs": [],
   "source": [
    "from Circle_1 import Circle"
   ]
  },
  {
   "cell_type": "code",
   "execution_count": null,
   "metadata": {},
   "outputs": [],
   "source": [
    "type(Circle)"
   ]
  },
  {
   "cell_type": "code",
   "execution_count": null,
   "metadata": {},
   "outputs": [],
   "source": [
    "Circle.__dict__"
   ]
  },
  {
   "cell_type": "markdown",
   "metadata": {},
   "source": [
    "- Notice that the `module` has changed"
   ]
  },
  {
   "cell_type": "markdown",
   "metadata": {},
   "source": [
    "## Creating an Instance"
   ]
  },
  {
   "cell_type": "code",
   "execution_count": null,
   "metadata": {},
   "outputs": [],
   "source": [
    "c1 = Circle()"
   ]
  },
  {
   "cell_type": "markdown",
   "metadata": {},
   "source": [
    "- Produces no output\n",
    "- Creates an instance of the class `Circle` named `c1`\n",
    "  - It contains nothing because the only contents of the class are the keyword `pass`"
   ]
  },
  {
   "cell_type": "code",
   "execution_count": null,
   "metadata": {},
   "outputs": [],
   "source": [
    "type(c1)"
   ]
  },
  {
   "cell_type": "code",
   "execution_count": null,
   "metadata": {},
   "outputs": [],
   "source": [
    "c1.__dict__"
   ]
  },
  {
   "cell_type": "markdown",
   "metadata": {},
   "source": [
    "## Deleting an Instance"
   ]
  },
  {
   "cell_type": "code",
   "execution_count": null,
   "metadata": {},
   "outputs": [],
   "source": [
    "c2 = Circle()\n",
    "c2"
   ]
  },
  {
   "cell_type": "code",
   "execution_count": null,
   "metadata": {},
   "outputs": [],
   "source": [
    "del c2"
   ]
  },
  {
   "cell_type": "code",
   "execution_count": null,
   "metadata": {},
   "outputs": [],
   "source": [
    "c2"
   ]
  },
  {
   "cell_type": "markdown",
   "metadata": {},
   "source": [
    "# End of Notebook"
   ]
  }
 ],
 "metadata": {
  "kernelspec": {
   "display_name": "Python 3 (ipykernel)",
   "language": "python",
   "name": "python3"
  },
  "language_info": {
   "codemirror_mode": {
    "name": "ipython",
    "version": 3
   },
   "file_extension": ".py",
   "mimetype": "text/x-python",
   "name": "python",
   "nbconvert_exporter": "python",
   "pygments_lexer": "ipython3",
   "version": "3.8.19"
  }
 },
 "nbformat": 4,
 "nbformat_minor": 4
}
