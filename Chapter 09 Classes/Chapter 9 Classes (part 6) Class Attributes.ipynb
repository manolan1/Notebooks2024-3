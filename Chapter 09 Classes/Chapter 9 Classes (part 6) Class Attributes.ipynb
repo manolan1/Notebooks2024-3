{
 "cells": [
  {
   "cell_type": "markdown",
   "metadata": {},
   "source": [
    "# Chapter 9: Classes (part 6)\n",
    "\n",
    "## Class Attributes & Instance Attributes at Superclass"
   ]
  },
  {
   "cell_type": "markdown",
   "metadata": {},
   "source": [
    "So far, when dealing with attributes, they have been defined at the class level, but they have a different value in each instance. We describe these as instance attributes.\n",
    "\n",
    "What if we wanted an attribute to have a shared value between all instances of the class?\n",
    "\n",
    "What if we wanted an attribute to be defined for all subclasses, but have a different value in each instance?"
   ]
  },
  {
   "cell_type": "code",
   "execution_count": null,
   "metadata": {},
   "outputs": [],
   "source": [
    "class Shape:\n",
    "    \"\"\"Shape v2 (class attribute)\"\"\"\n",
    "\n",
    "    __count = 0\n",
    "\n",
    "    def __init__(self, name = None):\n",
    "        self.__count += 1\n",
    "        self.__set_name(name)\n",
    "\n",
    "    def __del__(self):\n",
    "        self.__count -= 1\n",
    "\n",
    "    def calculate_area(self):\n",
    "        return 0\n",
    "\n",
    "    def __str__(self):\n",
    "        return 'We should not get here, this is a Shape with area %.2f' % self.calculate_area()\n",
    "\n",
    "    def __gt__(self, other):\n",
    "        return self.calculate_area() > other.calculate_area()\n",
    "\n",
    "    def __set_name(self, name):\n",
    "        self.__name = name\n",
    "\n",
    "    def __get_name(self):\n",
    "        return self.__name\n",
    "\n",
    "    name = property(__get_name, __set_name)\n",
    "\n",
    "    def __get_count(self):\n",
    "        return self.__count\n",
    "\n",
    "    count = property(__get_count)\n",
    "\n",
    "# or\n",
    "# from Shape_2 import Shape"
   ]
  },
  {
   "cell_type": "markdown",
   "metadata": {},
   "source": [
    "`count` only has a getter: this is how to define a read-only property. If you try assigning to it, it will fail."
   ]
  },
  {
   "cell_type": "code",
   "execution_count": null,
   "metadata": {},
   "outputs": [],
   "source": [
    "sh = Shape('sh')\n",
    "sh.count"
   ]
  },
  {
   "cell_type": "code",
   "execution_count": null,
   "metadata": {},
   "outputs": [],
   "source": [
    "sh.count = 42"
   ]
  },
  {
   "cell_type": "code",
   "execution_count": null,
   "metadata": {},
   "outputs": [],
   "source": [
    "import math\n",
    "\n",
    "class Circle(Shape):\n",
    "    \"\"\"Circle v8 (class attribute)\"\"\"\n",
    "    def __init__(self, radius = 0.0, name = ''):\n",
    "        super().__init__(name)\n",
    "        self.__set_radius(radius)\n",
    "\n",
    "    def calculate_area(self):\n",
    "        return math.pi * (self.__radius ** 2)\n",
    "\n",
    "    def __set_radius(self, radius):\n",
    "        if radius >= 0.0:\n",
    "            self.__radius = radius\n",
    "        else:\n",
    "            print('radius cannot be less than 0.0')\n",
    "            self.__radius = 0.0\n",
    "\n",
    "    def __get_radius(self):\n",
    "        return self.__radius\n",
    "\n",
    "    def __str__(self):\n",
    "        return 'Circle with radius %.2f' % self.__get_radius()\n",
    "\n",
    "    radius = property(__get_radius, __set_radius)\n",
    "\n",
    "# or\n",
    "# from Circle_8 import Circle"
   ]
  },
  {
   "cell_type": "code",
   "execution_count": null,
   "metadata": {},
   "outputs": [],
   "source": [
    "c8a = Circle(1.0, 'c8a')\n",
    "c8b = Circle(1.5, 'c8b')"
   ]
  },
  {
   "cell_type": "code",
   "execution_count": null,
   "metadata": {},
   "outputs": [],
   "source": [
    "c8a.__dict__"
   ]
  },
  {
   "cell_type": "code",
   "execution_count": null,
   "metadata": {},
   "outputs": [],
   "source": [
    "c8b.__dict__"
   ]
  },
  {
   "cell_type": "markdown",
   "metadata": {},
   "source": [
    "We can see that, as expected, the two instances of `Circle` have different names. Notice that the property is specially _mangled_ to show that it originates from `Shape`.\n",
    "\n",
    "However, the counts are not what we expected. The property was defined in `Shape` and we expected it to count instances of that class or subclasses.\n",
    "\n",
    "The problem is that each instance operates as a separate namespace, referred to by `self` and we manipulated the count as `self.__count`. We have created an instance attribute at the superclass level. This is often useful, but it is not what we were looking for here.\n",
    "\n",
    "We need a different approach."
   ]
  },
  {
   "cell_type": "code",
   "execution_count": null,
   "metadata": {},
   "outputs": [],
   "source": [
    "class Shape:\n",
    "    \"\"\"Shape v3 (class attribute fixed)\"\"\"\n",
    "\n",
    "    __count = 0\n",
    "\n",
    "    def __init__(self, name = ''):\n",
    "        Shape.__count += 1\n",
    "        self.__set_name(name)\n",
    "\n",
    "    def __del__(self):\n",
    "        Shape.__count -= 1\n",
    "\n",
    "    def calculate_area(self):\n",
    "        return 0\n",
    "\n",
    "    def __str__(self):\n",
    "        return 'We should not get here, this is a Shape with area %.2f' % self.calculate_area()\n",
    "\n",
    "    def __gt__(self, other):\n",
    "        return self.calculate_area() > other.calculate_area()\n",
    "\n",
    "    def __set_name(self, name):\n",
    "        self.__name = name\n",
    "\n",
    "    def __get_name(self):\n",
    "        return self.__name\n",
    "\n",
    "    name = property(__get_name, __set_name)\n",
    "\n",
    "    def __get_count(self):\n",
    "        return Shape.__count\n",
    "\n",
    "    count = property(__get_count)\n",
    "\n",
    "# or\n",
    "# from Shape_3 import Shape"
   ]
  },
  {
   "cell_type": "code",
   "execution_count": null,
   "metadata": {},
   "outputs": [],
   "source": [
    "import math\n",
    "\n",
    "class Circle(Shape):\n",
    "    \"\"\"Circle v8 (class attribute)\"\"\"\n",
    "    def __init__(self, radius = 0.0, name = ''):\n",
    "        super().__init__(name)\n",
    "        self.__set_radius(radius)\n",
    "\n",
    "    def calculate_area(self):\n",
    "        return math.pi * (self.__radius ** 2)\n",
    "\n",
    "    def __set_radius(self, radius):\n",
    "        if radius >= 0.0:\n",
    "            self.__radius = radius\n",
    "        else:\n",
    "            print('radius cannot be less than 0.0')\n",
    "            self.__radius = 0.0\n",
    "\n",
    "    def __get_radius(self):\n",
    "        return self.__radius\n",
    "\n",
    "    def __str__(self):\n",
    "        return 'Circle with radius %.2f' % self.__get_radius()\n",
    "\n",
    "    radius = property(__get_radius, __set_radius)\n",
    "\n",
    "# or\n",
    "# from Circle_8b import Circle"
   ]
  },
  {
   "cell_type": "code",
   "execution_count": null,
   "metadata": {},
   "outputs": [],
   "source": [
    "c8a = Circle(1.0)\n",
    "c8b = Circle(1.5)"
   ]
  },
  {
   "cell_type": "code",
   "execution_count": null,
   "metadata": {},
   "outputs": [],
   "source": [
    "c8a.__dict__"
   ]
  },
  {
   "cell_type": "code",
   "execution_count": null,
   "metadata": {},
   "outputs": [],
   "source": [
    "print(c8a.count)\n",
    "print(c8b.count)"
   ]
  },
  {
   "cell_type": "code",
   "execution_count": null,
   "metadata": {},
   "outputs": [],
   "source": [
    "del c8b\n",
    "print(c8a.count)\n",
    "print(c8b.count)"
   ]
  },
  {
   "cell_type": "code",
   "execution_count": null,
   "metadata": {},
   "outputs": [],
   "source": [
    "Shape.count"
   ]
  },
  {
   "cell_type": "markdown",
   "metadata": {},
   "source": [
    "It works now, but we can only access it through an instance rather than through the class. There are ways around this, but none of them really replicate static members in languages like Java or C++.\n",
    "\n",
    "Further details are beyond the scope of this course."
   ]
  },
  {
   "cell_type": "markdown",
   "metadata": {},
   "source": [
    "## Exercise 9.5\n",
    "\n",
    "Now re-open Exercise 9 and complete the section for Exercise 9.5."
   ]
  },
  {
   "cell_type": "markdown",
   "metadata": {},
   "source": [
    "## Common Patterns in Inheritance\n",
    "\n",
    "There is one very common pattern in inheritance. That is to have the class `__init__()` functions defined to accept keyword parameters. The parameters that will be bound in that class are named keywords, and the rest are covered by a `**kwds` parameter to be passed on to the parent.\n",
    "\n",
    "If we apply this pattern to our classes, we might end up with this:"
   ]
  },
  {
   "cell_type": "code",
   "execution_count": null,
   "metadata": {},
   "outputs": [],
   "source": [
    "import math\n",
    "\n",
    "class Circle(Shape):\n",
    "    \"\"\"Circle v9 (kwds init)\"\"\"\n",
    "    def __init__(self, radius = 0.0, **kwds):\n",
    "        super().__init__(**kwds)\n",
    "        self.__set_radius(radius)\n",
    "\n",
    "    def calculate_area(self):\n",
    "        return math.pi * (self.__radius ** 2)\n",
    "\n",
    "    def __set_radius(self, radius):\n",
    "        if radius >= 0.0:\n",
    "            self.__radius = radius\n",
    "        else:\n",
    "            print('radius cannot be less than 0.0')\n",
    "            self.__radius = 0.0\n",
    "\n",
    "    def __get_radius(self):\n",
    "        return self.__radius\n",
    "\n",
    "    def __str__(self):\n",
    "        return 'Circle with radius %.2f' % self.__get_radius()\n",
    "\n",
    "    radius = property(__get_radius, __set_radius)\n",
    "\n",
    "# or\n",
    "# from Circle_9 import Circle"
   ]
  },
  {
   "cell_type": "markdown",
   "metadata": {},
   "source": [
    "- The advantage here is that the subclass does not need to handle each superclass attribute indvidually"
   ]
  },
  {
   "cell_type": "code",
   "execution_count": null,
   "metadata": {},
   "outputs": [],
   "source": [
    "c9a = Circle(2.0)\n",
    "print(c9a.name, end='**\\n')\n",
    "print(c9a)"
   ]
  },
  {
   "cell_type": "code",
   "execution_count": null,
   "metadata": {},
   "outputs": [],
   "source": [
    "c9b = Circle(1.0, name='Secundus')\n",
    "print(c9b.name, end='**\\n')\n",
    "print(c9b)"
   ]
  },
  {
   "cell_type": "code",
   "execution_count": null,
   "metadata": {},
   "outputs": [],
   "source": [
    "c9b = Circle(1.0, 'Secundus')\n",
    "print(c9b.name, end='**\\n')\n",
    "print(c9b)"
   ]
  },
  {
   "cell_type": "markdown",
   "metadata": {},
   "source": [
    "- But the trade-off is that we can no longer call the constructor without using named parameters."
   ]
  },
  {
   "cell_type": "markdown",
   "metadata": {},
   "source": [
    "## Multiple Inheritance\n",
    "\n",
    "Python supports multiple inheritance using the following syntax:\n",
    "```\n",
    "class SubClassName(Parent1, Parent2):\n",
    "```\n",
    "The MRO checks `Parent1` first and then `Parent2`.\n",
    "\n",
    "This is beyond the scope of this course."
   ]
  },
  {
   "cell_type": "markdown",
   "metadata": {},
   "source": [
    "# End of Notebook"
   ]
  }
 ],
 "metadata": {
  "kernelspec": {
   "display_name": "Python 3 (ipykernel)",
   "language": "python",
   "name": "python3"
  },
  "language_info": {
   "codemirror_mode": {
    "name": "ipython",
    "version": 3
   },
   "file_extension": ".py",
   "mimetype": "text/x-python",
   "name": "python",
   "nbconvert_exporter": "python",
   "pygments_lexer": "ipython3",
   "version": "3.8.19"
  }
 },
 "nbformat": 4,
 "nbformat_minor": 4
}
